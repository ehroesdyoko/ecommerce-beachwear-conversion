{
    "metadata": {
        "kernelspec": {
            "name": "SQL",
            "display_name": "SQL",
            "language": "sql"
        },
        "language_info": {
            "name": "sql",
            "version": ""
        }
    },
    "nbformat_minor": 2,
    "nbformat": 4,
    "cells": [
        {
            "cell_type": "code",
            "source": [
                "DROP TABLE Conversion;\r\n",
                "DROP TABLE CustomerConversion;\r\n",
                "DROP TABLE ORDERJOIN;\r\n",
                ""
            ],
            "metadata": {
                "azdata_cell_guid": "5c2e89ac-ac59-40f8-898b-932ff2ed5d03",
                "language": "sql"
            },
            "outputs": [
                {
                    "output_type": "display_data",
                    "data": {
                        "text/html": "DROP TABLE"
                    },
                    "metadata": {}
                },
                {
                    "output_type": "display_data",
                    "data": {
                        "text/html": "DROP TABLE"
                    },
                    "metadata": {}
                },
                {
                    "output_type": "display_data",
                    "data": {
                        "text/html": "DROP TABLE"
                    },
                    "metadata": {}
                },
                {
                    "output_type": "display_data",
                    "data": {
                        "text/html": "Total execution time: 00:00:00.170"
                    },
                    "metadata": {}
                }
            ],
            "execution_count": 124
        },
        {
            "cell_type": "code",
            "source": [
                "--- Creating a temporary table to join select relevant columns from the events table\r\n",
                "CREATE TEMP TABLE Conversion AS \r\n",
                "    SELECT \r\n",
                "        internet_session_id,\r\n",
                "        customer_id,\r\n",
                "       article_ID,\r\n",
                "       device_category_desc,\r\n",
                "        MAX(CASE WHEN action_type_desc = 'purchase' THEN 1 ELSE 0 END) AS conversion,\r\n",
                "        SUM(CASE WHEN action_type_desc = 'product detail view' THEN 1 ELSE 0 END) AS pdview\r\n",
                "    FROM \r\n",
                "        events\r\n",
                "    GROUP BY \r\n",
                "        internet_session_id,\r\n",
                "        customer_id,\r\n",
                "        device_category_desc,\r\n",
                "       article_ID;"
            ],
            "metadata": {
                "azdata_cell_guid": "7068d64d-9bcf-46bf-980a-aa3fb371390d",
                "language": "sql",
                "tags": []
            },
            "outputs": [
                {
                    "output_type": "display_data",
                    "data": {
                        "text/html": "SELECT 805384"
                    },
                    "metadata": {}
                },
                {
                    "output_type": "display_data",
                    "data": {
                        "text/html": "Total execution time: 00:00:02.688"
                    },
                    "metadata": {}
                }
            ],
            "execution_count": 110
        },
        {
            "cell_type": "code",
            "source": [
                "--- Creating a temporary table to join relevant columns from the customers table onto the previous created Conversion table\r\n",
                "CREATE TEMP TABLE CustomerConversion AS \r\n",
                "    SELECT\r\n",
                "        C.article_id,\r\n",
                "        C.internet_session_id, \r\n",
                "        C.customer_id, \r\n",
                "        C.conversion,\r\n",
                "        C.pdview,\r\n",
                "        C.device_category_desc, \r\n",
                "        cus.gender_code, \r\n",
                "        cus.geom_household_age,\r\n",
                "        cus.geom_household_income,\r\n",
                "        cus.geom_consumption_frequency,\r\n",
                "        cus.geom_clothing_budget\r\n",
                "    FROM \r\n",
                "        Conversion AS C\r\n",
                "    LEFT JOIN \r\n",
                "        customers AS cus \r\n",
                "    ON \r\n",
                "        C.customer_id = cus.customer_id\r\n",
                ""
            ],
            "metadata": {
                "azdata_cell_guid": "46d98b64-3b48-4412-b047-243b01280326",
                "language": "sql"
            },
            "outputs": [
                {
                    "output_type": "display_data",
                    "data": {
                        "text/html": "SELECT 805384"
                    },
                    "metadata": {}
                },
                {
                    "output_type": "display_data",
                    "data": {
                        "text/html": "Total execution time: 00:00:01.616"
                    },
                    "metadata": {}
                }
            ],
            "execution_count": 111
        },
        {
            "cell_type": "code",
            "source": [
                "--- Creating a temporary table to join relevant columns from the article table onto the previous created CustomerConversion table: THIS IS OUR FINAL TABLE THAT WE EXPORT!\r\n",
                "CREATE TEMP TABLE ORDERJOIN AS \r\n",
                "    SELECT\r\n",
                "        cc.internet_session_id,\r\n",
                "        cc.customer_id,\r\n",
                "        RIGHT(internet_session_id, 10) AS session_date,\r\n",
                "        cc.conversion,\r\n",
                "        cc.pdview,\r\n",
                "        cc.article_id,\r\n",
                "        art.brand_name,\r\n",
                "        art.class_2,\r\n",
                "        art.class_3,\r\n",
                "        art.live_year,\r\n",
                "        cc.device_category_desc,\r\n",
                "        cc.gender_code,\r\n",
                "        cc.geom_household_age,\r\n",
                "        cc.geom_household_income,\r\n",
                "        cc.geom_consumption_frequency,\r\n",
                "        cc.geom_clothing_budget\r\n",
                "    FROM \r\n",
                "        CustomerConversion AS cc\r\n",
                "    LEFT JOIN \r\n",
                "        article AS art\r\n",
                "    ON \r\n",
                "        cc.article_id = art.article_id\r\n",
                "\r\n",
                "       "
            ],
            "metadata": {
                "azdata_cell_guid": "5fb194d1-0ecc-469a-835e-1be45bddd15b",
                "language": "sql"
            },
            "outputs": [
                {
                    "output_type": "display_data",
                    "data": {
                        "text/html": "SELECT 805384"
                    },
                    "metadata": {}
                },
                {
                    "output_type": "display_data",
                    "data": {
                        "text/html": "Total execution time: 00:00:01.780"
                    },
                    "metadata": {}
                }
            ],
            "execution_count": 117
        },
        {
            "cell_type": "markdown",
            "source": [
                ""
            ],
            "metadata": {
                "azdata_cell_guid": "bc30cb8a-31ef-42dd-befc-df2c9d60e6c7"
            }
        },
        {
            "cell_type": "code",
            "source": [
                "--- Performing disaster checks for the final table\r\n",
                "\r\n",
                "-- Calculating the conversion rate for 2022 based on unique session_id\r\n",
                "select ((select cast(count(distinct(internet_session_id))as FLOAT)\r\n",
                "from ORDERJOIN\r\n",
                "where conversion = 1 AND session_date LIKE '2022%') / cast(count(distinct(internet_session_id))as FLOAT)) * 100 as conversion_2022\r\n",
                "from ORDERJOIN\r\n",
                "where session_date LIKE '2022%';\r\n",
                "\r\n",
                "-- Calculating the conversion rate for 2021 based on unique session_id\r\n",
                "select ((select cast(count(distinct(internet_session_id))as FLOAT)\r\n",
                "from ORDERJOIN\r\n",
                "where conversion = 1 AND session_date LIKE '2021%') / cast(count(distinct(internet_session_id))as FLOAT)) * 100 as conversion_2021\r\n",
                "from ORDERJOIN\r\n",
                "where session_date LIKE '2021%';\r\n",
                "\r\n",
                "-- Calculating the total conversion rate based on unique session_id\r\n",
                "select ((select cast(count(distinct(internet_session_id))as FLOAT)\r\n",
                "from ORDERJOIN\r\n",
                "where conversion = 1) / cast(count(distinct(internet_session_id))as FLOAT)) * 100 as conversion_overall\r\n",
                "from ORDERJOIN;\r\n",
                "\r\n",
                "-- Calculating the conversion rate for 2021 based on views\r\n",
                "select (sum(conversion)/sum(pdview))*100 as cr_perview_2021 from ORDERJOIN\r\n",
                "where session_date LIKE '2021%';\r\n",
                "\r\n",
                "-- Calculating the conversion rate for 2022 based on views\r\n",
                "select (sum(conversion)/sum(pdview))*100 as cr_perview_2022 from ORDERJOIN\r\n",
                "where session_date LIKE '2022%';\r\n",
                "\r\n",
                "-- Calculating the total conversion rate based on views\r\n",
                "select (sum(conversion)/sum(pdview))*100 as cr_perview_overall from ORDERJOIN;"
            ],
            "metadata": {
                "language": "sql",
                "azdata_cell_guid": "04610b1d-2517-46a0-939b-e009dc7cdc1a"
            },
            "outputs": [
                {
                    "output_type": "display_data",
                    "data": {
                        "text/html": "(1 row(s) affected)"
                    },
                    "metadata": {}
                },
                {
                    "output_type": "display_data",
                    "data": {
                        "text/html": "(1 row(s) affected)"
                    },
                    "metadata": {}
                },
                {
                    "output_type": "display_data",
                    "data": {
                        "text/html": "(1 row(s) affected)"
                    },
                    "metadata": {}
                },
                {
                    "output_type": "display_data",
                    "data": {
                        "text/html": "(1 row(s) affected)"
                    },
                    "metadata": {}
                },
                {
                    "output_type": "display_data",
                    "data": {
                        "text/html": "(1 row(s) affected)"
                    },
                    "metadata": {}
                },
                {
                    "output_type": "display_data",
                    "data": {
                        "text/html": "(1 row(s) affected)"
                    },
                    "metadata": {}
                },
                {
                    "output_type": "display_data",
                    "data": {
                        "text/html": "Total execution time: 00:00:03.261"
                    },
                    "metadata": {}
                },
                {
                    "output_type": "execute_result",
                    "execution_count": 121,
                    "data": {
                        "application/vnd.dataresource+json": {
                            "schema": {
                                "fields": [
                                    {
                                        "name": "conversion_2022"
                                    }
                                ]
                            },
                            "data": [
                                {
                                    "conversion_2022": "9.51695406508985"
                                }
                            ]
                        },
                        "text/html": "<table><tr><th>conversion_2022</th></tr><tr><td>9.51695406508985</td></tr></table>"
                    },
                    "metadata": {}
                },
                {
                    "output_type": "execute_result",
                    "execution_count": 121,
                    "data": {
                        "application/vnd.dataresource+json": {
                            "schema": {
                                "fields": [
                                    {
                                        "name": "conversion_2021"
                                    }
                                ]
                            },
                            "data": [
                                {
                                    "conversion_2021": "9.997800708261707"
                                }
                            ]
                        },
                        "text/html": "<table><tr><th>conversion_2021</th></tr><tr><td>9.997800708261707</td></tr></table>"
                    },
                    "metadata": {}
                },
                {
                    "output_type": "execute_result",
                    "execution_count": 121,
                    "data": {
                        "application/vnd.dataresource+json": {
                            "schema": {
                                "fields": [
                                    {
                                        "name": "conversion_overall"
                                    }
                                ]
                            },
                            "data": [
                                {
                                    "conversion_overall": "9.716542621072536"
                                }
                            ]
                        },
                        "text/html": "<table><tr><th>conversion_overall</th></tr><tr><td>9.716542621072536</td></tr></table>"
                    },
                    "metadata": {}
                },
                {
                    "output_type": "execute_result",
                    "execution_count": 121,
                    "data": {
                        "application/vnd.dataresource+json": {
                            "schema": {
                                "fields": [
                                    {
                                        "name": "cr_perview_2021"
                                    }
                                ]
                            },
                            "data": [
                                {
                                    "cr_perview_2021": "7.94410116714282550400"
                                }
                            ]
                        },
                        "text/html": "<table><tr><th>cr_perview_2021</th></tr><tr><td>7.94410116714282550400</td></tr></table>"
                    },
                    "metadata": {}
                },
                {
                    "output_type": "execute_result",
                    "execution_count": 121,
                    "data": {
                        "application/vnd.dataresource+json": {
                            "schema": {
                                "fields": [
                                    {
                                        "name": "cr_perview_2022"
                                    }
                                ]
                            },
                            "data": [
                                {
                                    "cr_perview_2022": "7.24296718911930938000"
                                }
                            ]
                        },
                        "text/html": "<table><tr><th>cr_perview_2022</th></tr><tr><td>7.24296718911930938000</td></tr></table>"
                    },
                    "metadata": {}
                },
                {
                    "output_type": "execute_result",
                    "execution_count": 121,
                    "data": {
                        "application/vnd.dataresource+json": {
                            "schema": {
                                "fields": [
                                    {
                                        "name": "cr_perview_overall"
                                    }
                                ]
                            },
                            "data": [
                                {
                                    "cr_perview_overall": "7.52561041558256042900"
                                }
                            ]
                        },
                        "text/html": "<table><tr><th>cr_perview_overall</th></tr><tr><td>7.52561041558256042900</td></tr></table>"
                    },
                    "metadata": {}
                }
            ],
            "execution_count": 121
        },
        {
            "cell_type": "code",
            "source": [
                "--- Providing an overview of the amount of product detail views by purchase status (conversion) based on ORDERJOIN. To show the distribution of views based on whether a purchase was made or not\r\n",
                "SELECT \r\n",
                "    CASE WHEN conversion = 1 THEN 'Yes' ELSE 'No' END AS purchase,\r\n",
                "    COUNT(CASE WHEN pdview = 0 THEN 1 END) AS view0,\r\n",
                "    COUNT(CASE WHEN pdview = 1 THEN 1 END) AS view1,\r\n",
                "    COUNT(CASE WHEN pdview = 2 THEN 1 END) AS view2,\r\n",
                "    COUNT(CASE WHEN pdview = 3 THEN 1 END) AS view3,\r\n",
                "    COUNT(CASE WHEN pdview = 4 THEN 1 END) AS view4,\r\n",
                "    COUNT(CASE WHEN pdview > 4 THEN 1 END) AS viewmore,\r\n",
                "    COUNT(*) AS Total\r\n",
                "\r\n",
                "FROM \r\n",
                "    ORDERJOIN\r\n",
                "GROUP BY \r\n",
                "    purchase;"
            ],
            "metadata": {
                "azdata_cell_guid": "b46eaba5-8d81-4bdf-9b55-c6a0b105f273",
                "language": "sql",
                "tags": []
            },
            "outputs": [
                {
                    "output_type": "display_data",
                    "data": {
                        "text/html": "(2 row(s) affected)"
                    },
                    "metadata": {}
                },
                {
                    "output_type": "display_data",
                    "data": {
                        "text/html": "Total execution time: 00:00:00.419"
                    },
                    "metadata": {}
                },
                {
                    "output_type": "execute_result",
                    "execution_count": 122,
                    "data": {
                        "application/vnd.dataresource+json": {
                            "schema": {
                                "fields": [
                                    {
                                        "name": "purchase"
                                    },
                                    {
                                        "name": "view0"
                                    },
                                    {
                                        "name": "view1"
                                    },
                                    {
                                        "name": "view2"
                                    },
                                    {
                                        "name": "view3"
                                    },
                                    {
                                        "name": "view4"
                                    },
                                    {
                                        "name": "viewmore"
                                    },
                                    {
                                        "name": "total"
                                    }
                                ]
                            },
                            "data": [
                                {
                                    "purchase": "No",
                                    "view0": "48317",
                                    "view1": "658042",
                                    "view2": "34119",
                                    "view3": "4688",
                                    "view4": "926",
                                    "viewmore": "287",
                                    "total": "746379"
                                },
                                {
                                    "purchase": "Yes",
                                    "view0": "20688",
                                    "view1": "38226",
                                    "view2": "64",
                                    "view3": "22",
                                    "view4": "4",
                                    "viewmore": "1",
                                    "total": "59005"
                                }
                            ]
                        },
                        "text/html": "<table><tr><th>purchase</th><th>view0</th><th>view1</th><th>view2</th><th>view3</th><th>view4</th><th>viewmore</th><th>total</th></tr><tr><td>No</td><td>48317</td><td>658042</td><td>34119</td><td>4688</td><td>926</td><td>287</td><td>746379</td></tr><tr><td>Yes</td><td>20688</td><td>38226</td><td>64</td><td>22</td><td>4</td><td>1</td><td>59005</td></tr></table>"
                    },
                    "metadata": {}
                }
            ],
            "execution_count": 122
        }
    ]
}